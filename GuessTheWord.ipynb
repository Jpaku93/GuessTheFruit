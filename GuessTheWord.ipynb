{
 "cells": [
  {
   "cell_type": "code",
   "execution_count": 1,
   "metadata": {},
   "outputs": [],
   "source": [
    "import speech_recognition as sr\n",
    "import time, os\n",
    "import os, pyautogui, datetime, subprocess\n",
    "import pandas as pd\n",
    "import pickle\n",
    "\n",
    "\n",
    "date=datetime.datetime.now()\n",
    "\n",
    "def takeCommand():\n",
    "    done = False\n",
    "    \"\"\"It take microphone input from the user and return string\"\"\"\n",
    "    recog=sr.Recognizer()\n",
    "    while (done == False):\n",
    "        with sr.Microphone() as source:\n",
    "            #r.adjust_for_ambient_noise(source)\n",
    "            recog.pause_threshold = 0.5 # List spoken phrase after 1 sec pause\n",
    "            print('listining....') # Acknowledge active microphone\n",
    "            # r.energy_threshold = 45.131829621150224\n",
    "            # print(sr.Microphone.list_microphone_names())\n",
    "            #print(r.energy_threshold)\n",
    "            audio=recog.listen(source) # listen through micr microphone\n",
    "            \n",
    "            \n",
    "        try:           \n",
    "            query= recog.recognize_google(audio) # recognize english microphone input with google speech recognition\n",
    "            print(\"you said\", query)\n",
    "            done = True\n",
    "            try:\n",
    "                return query \n",
    "            except Exception as e:\n",
    "                pass\n",
    "                \n",
    "        except Exception as e:\n",
    "            print(\"I cant hear anything??\")\n"
   ]
  },
  {
   "cell_type": "code",
   "execution_count": 2,
   "metadata": {},
   "outputs": [],
   "source": [
    "def speak(audio):\n",
    "    \"\"\"It takes string input and speak\"\"\"\n",
    "    from win32com.client import Dispatch\n",
    "    speak=Dispatch(\"SAPI.SpVoice\")\n",
    "    speak.Speak(audio)\n",
    "\n"
   ]
  },
  {
   "cell_type": "code",
   "execution_count": 3,
   "metadata": {},
   "outputs": [],
   "source": [
    "import random\n",
    "\n",
    "# guess the word game\n",
    "def guess_the_word():\n",
    "    # make a list of random words\n",
    "    words = ['apple', 'banana', 'orange', 'mango', 'lemon']\n",
    "    # pick a random word\n",
    "    word = random.choice(words)\n",
    "    # make it a list of letters for someone to guess\n",
    "    letters = list(word)\n",
    "    # make a variable with an empty value\n",
    "    guesses = []\n",
    "    # give the user 6 tries\n",
    "    tries = 6\n",
    "    # create a while loop\n",
    "    # keep going until the tries are 0\n",
    "    while tries > 0:\n",
    "        # make a for loop to print the letters\n",
    "        for letter in letters:\n",
    "            # if the letter is in the guesses\n",
    "            if letter in guesses:\n",
    "                # print the letter\n",
    "                print(letter, end=' ')\n",
    "\n",
    "        # speak\n",
    "        speak('What fruit am i thinking of?')\n",
    "        guess = takeCommand()\n",
    "        # add the guess to the list of guesses\n",
    "        guesses.append(guess)\n",
    "        # if the guess is not in the word\n",
    "        if guess != word:\n",
    "            # take away a try\n",
    "            tries -= 1\n",
    "            # let the user know\n",
    "            speak('Wrong!')\n",
    "            speak('You have' + str(tries) + 'tries left')\n",
    "\n",
    "        # if the guess is the word\n",
    "        if guess == word:\n",
    "            # let the user know they won\n",
    "            speak('You win!')\n",
    "            # and end the game\n",
    "            break\n",
    "    # if the user is out of tries\n",
    "    if tries == 0:\n",
    "        # let them know they lost\n",
    "        speak('You lose!')\n",
    "        # and show them the word\n",
    "        speak('The word was' + word)"
   ]
  },
  {
   "cell_type": "code",
   "execution_count": 4,
   "metadata": {},
   "outputs": [
    {
     "name": "stdout",
     "output_type": "stream",
     "text": [
      "listining....\n",
      "you said apple\n"
     ]
    }
   ],
   "source": [
    "guess_the_word()\n"
   ]
  },
  {
   "cell_type": "code",
   "execution_count": null,
   "metadata": {},
   "outputs": [],
   "source": []
  }
 ],
 "metadata": {
  "kernelspec": {
   "display_name": "Python 3.10.4 64-bit",
   "language": "python",
   "name": "python3"
  },
  "language_info": {
   "codemirror_mode": {
    "name": "ipython",
    "version": 3
   },
   "file_extension": ".py",
   "mimetype": "text/x-python",
   "name": "python",
   "nbconvert_exporter": "python",
   "pygments_lexer": "ipython3",
   "version": "3.10.4"
  },
  "orig_nbformat": 4,
  "vscode": {
   "interpreter": {
    "hash": "58837b1b657ea91009af8409fc244ae3b5ccf93ea980d6fb6b80adc5f697f4cc"
   }
  }
 },
 "nbformat": 4,
 "nbformat_minor": 2
}
